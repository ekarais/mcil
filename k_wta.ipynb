{
 "cells": [
  {
   "cell_type": "code",
   "execution_count": 1,
   "metadata": {},
   "outputs": [],
   "source": [
    "import functools\n",
    "from tqdm import tqdm\n",
    "import random\n",
    "import copy\n",
    "\n",
    "import numpy as np\n",
    "import matplotlib.pyplot as plt\n",
    "import torch\n",
    "import torch.nn.functional as F\n",
    "from torch.utils.data import DataLoader\n",
    "from torchvision import transforms\n",
    "from torchvision.datasets import MNIST, CIFAR10\n",
    "\n",
    "from sparse_net import SparseNet\n",
    "import hyperparameters"
   ]
  },
  {
   "cell_type": "code",
   "execution_count": 2,
   "metadata": {},
   "outputs": [],
   "source": [
    "# CONFIG\n",
    "dataset = \"mnist\"\n",
    "continual = True\n",
    "config = hyperparameters.mnist\n",
    "config[\"data_dir\"] = \"/home/ekarais/mcil/data/\"\n",
    "config[\"num_epochs\"] = 5\n",
    "config[\"network_hyperparameters\"][\"k\"] = 10\n",
    "config[\"network_hyperparameters\"][\"n\"] = 150\n",
    "config[\"continual_batch_size\"] = 128\n",
    "config[\"continual_learning_rate\"] = 1e-5\n",
    "config[\"continual_num_classes\"] = 5"
   ]
  },
  {
   "cell_type": "code",
   "execution_count": 3,
   "metadata": {},
   "outputs": [],
   "source": [
    "def get_continual_split(dataset, num_classes=1):\n",
    "    train_dataset = torch.utils.data.Subset(dataset, [idx for idx, label in enumerate(dataset.train_labels) if label in range(10-num_classes)])\n",
    "    continual_loaders = []\n",
    "    for class_idx in range(10-num_classes, 10):\n",
    "        marginal_dataset = torch.utils.data.Subset(dataset, [idx for idx, label in enumerate(dataset.train_labels) if label == class_idx])\n",
    "        continual_loaders.append(DataLoader(marginal_dataset, batch_size=config[\"continual_batch_size\"], shuffle=True))\n",
    "    return train_dataset, continual_loaders\n",
    "\n",
    "def contrastive_divergence(logits, labels):\n",
    "    \"\"\"\n",
    "    TODO: Try out Perceptron analogous rule that only updates after mistakes\n",
    "    \"\"\"\n",
    "    num_samples = labels.shape[0]\n",
    "    random_idc = torch.randint(0, 10, (num_samples,))\n",
    "    return torch.sum(logits[range(num_samples), random_idc]) - torch.sum(logits[range(num_samples), labels])\n",
    "    \"\"\"\n",
    "    for i in range(labels.shape[0]):\n",
    "        pred = torch.argmax(logits[i]).item()\n",
    "        if pred == labels[i]:\n",
    "            random_idx = random.randint(0, 9)\n",
    "            loss += logits[random_idx] - logits[labels[i]]\n",
    "        else:\n",
    "            loss += logits[pred] - logits[labels[i]]\n",
    "    \"\"\""
   ]
  },
  {
   "cell_type": "markdown",
   "metadata": {},
   "source": [
    "# Define dataset and dataloaders"
   ]
  },
  {
   "cell_type": "code",
   "execution_count": 4,
   "metadata": {},
   "outputs": [
    {
     "name": "stderr",
     "output_type": "stream",
     "text": [
      "/home/ekarais/miniconda3/lib/python3.9/site-packages/torchvision/datasets/mnist.py:52: UserWarning: train_labels has been renamed targets\n",
      "  warnings.warn(\"train_labels has been renamed targets\")\n"
     ]
    }
   ],
   "source": [
    "if dataset == \"mnist\":\n",
    "    transform = transforms.Compose([transforms.ToTensor(), transforms.Normalize((0.1307,), (0.3081,))])\n",
    "    train_dataset = MNIST(config[\"data_dir\"], train=True, download=True, transform=transform)\n",
    "    test_dataset = MNIST(config[\"data_dir\"], train=False, download=True, transform=transform)\n",
    "\n",
    "if dataset == \"cifar10\":\n",
    "    transform = transforms.Compose([transforms.ToTensor(), transforms.Normalize((0.5, 0.5, 0.5), (0.5, 0.5, 0.5))])\n",
    "    train_dataset = CIFAR10(root='./data', train=True, download=True, transform=transform)\n",
    "    test_dataset = CIFAR10(root='./data', train=False, download=True, transform=transform)\n",
    "\n",
    "if continual:\n",
    "    train_dataset, continual_loaders = get_continual_split(train_dataset, num_classes=config[\"continual_num_classes\"])\n",
    "\n",
    "train_loader = DataLoader(train_dataset, batch_size=config[\"batch_size\"], shuffle=True)\n",
    "fe_loader = DataLoader(train_dataset, batch_size=config[\"first_epoch_batch_size\"], shuffle=True)\n",
    "test_loader = DataLoader(test_dataset, batch_size=config[\"test_batch_size\"], shuffle=True)"
   ]
  },
  {
   "cell_type": "markdown",
   "metadata": {},
   "source": [
    "# Create neural network, optimizer, etc."
   ]
  },
  {
   "cell_type": "code",
   "execution_count": 5,
   "metadata": {},
   "outputs": [],
   "source": [
    "device = torch.device('cuda' if torch.cuda.is_available() else 'cpu')\n",
    "model = SparseNet(**config[\"network_hyperparameters\"]).to(device)\n",
    "optimizer = torch.optim.SGD(model.parameters(), lr=config[\"learning_rate\"])\n",
    "scheduler = torch.optim.lr_scheduler.StepLR(optimizer, step_size=config[\"lr_scheduler_params\"][\"step_size\"], gamma=config[\"lr_scheduler_params\"][\"gamma\"])\n",
    "criterion = F.cross_entropy"
   ]
  },
  {
   "cell_type": "markdown",
   "metadata": {},
   "source": [
    "# Training loop"
   ]
  },
  {
   "cell_type": "code",
   "execution_count": 6,
   "metadata": {},
   "outputs": [
    {
     "name": "stdout",
     "output_type": "stream",
     "text": [
      "Epoch 1: Accuracy = 0.5066, loss = 4.5004\n",
      "Epoch 2: Accuracy = 0.5091, loss = 4.8103\n",
      "Epoch 3: Accuracy = 0.5088, loss = 5.0033\n",
      "Epoch 4: Accuracy = 0.5091, loss = 5.0353\n",
      "Epoch 5: Accuracy = 0.5090, loss = 5.0958\n"
     ]
    }
   ],
   "source": [
    "accuracies, losses = [], [] * 10\n",
    "\n",
    "for e in range(config[\"num_epochs\"]):\n",
    "    \n",
    "    # Train\n",
    "    model.train()\n",
    "\n",
    "    loader = train_loader if e > 0 else fe_loader\n",
    "\n",
    "    for x, y in loader:\n",
    "        x, y = x.to(device), y.to(device)\n",
    "        optimizer.zero_grad()\n",
    "        y_pred = model(x)\n",
    "        loss = criterion(y_pred, y)\n",
    "        loss.backward()\n",
    "        optimizer.step()\n",
    "\n",
    "    # Test\n",
    "    model.eval()\n",
    "    loss, correct = 0, 0\n",
    "    for x, y in test_loader:\n",
    "        x, y = x.to(device), y.to(device)\n",
    "        optimizer.zero_grad()\n",
    "        y_pred = model(x)\n",
    "        loss += criterion(y_pred, y)\n",
    "        pred = y_pred.max(1, keepdim=True)[1]\n",
    "        correct += pred.eq(y.view_as(pred)).sum().item()\n",
    "    \n",
    "    scheduler.step()\n",
    "\n",
    "    # Print results\n",
    "    losses.append(loss.item() / len(test_loader))\n",
    "    accuracies.append(correct / len(test_dataset))\n",
    "\n",
    "    print(f\"Epoch {e+1}: Accuracy = {accuracies[-1]:.4f}, loss = {losses[-1]:.4f}\")"
   ]
  },
  {
   "cell_type": "markdown",
   "metadata": {},
   "source": [
    "# Continual learning"
   ]
  },
  {
   "cell_type": "code",
   "execution_count": 7,
   "metadata": {},
   "outputs": [
    {
     "name": "stdout",
     "output_type": "stream",
     "text": [
      "Epoch 6: Accuracy = 0.5158, loss = 4.1279\n",
      "Epoch 7: Accuracy = 0.5299, loss = 3.3610\n",
      "Epoch 8: Accuracy = 0.5565, loss = 2.7076\n",
      "Epoch 9: Accuracy = 0.5230, loss = 2.3315\n",
      "Epoch 10: Accuracy = 0.2301, loss = 5.8337\n"
     ]
    }
   ],
   "source": [
    "if continual:\n",
    "    model_cp = copy.deepcopy(model)\n",
    "    optimizer_cp = torch.optim.SGD(model_cp.parameters(), lr=config[\"continual_learning_rate\"])\n",
    "\n",
    "    # Freeze everything except last layer\n",
    "    for param in model_cp.cnnSdr:\n",
    "        param.requires_grad = False\n",
    "\n",
    "    \"\"\"\n",
    "    for param in model_cp.linearSdr:\n",
    "        param.requires_grad = False\n",
    "    \"\"\"\n",
    "    \n",
    "    for e, loader in enumerate(continual_loaders):\n",
    "        \n",
    "        # Train\n",
    "        model_cp.train()\n",
    "\n",
    "        for x, y in loader:\n",
    "            x, y = x.to(device), y.to(device)\n",
    "            optimizer_cp.zero_grad()\n",
    "            y_pred = model_cp(x)\n",
    "            loss = contrastive_divergence(y_pred, y)\n",
    "            loss.backward()\n",
    "            optimizer_cp.step()\n",
    "\n",
    "        # Test\n",
    "        model_cp.eval()\n",
    "        loss, correct = 0, 0\n",
    "        for x, y in test_loader:\n",
    "            x, y = x.to(device), y.to(device)\n",
    "            optimizer_cp.zero_grad()\n",
    "            y_pred = model_cp(x)\n",
    "            loss += criterion(y_pred, y)\n",
    "            pred = y_pred.max(1, keepdim=True)[1]\n",
    "            correct += pred.eq(y.view_as(pred)).sum().item()\n",
    "        \n",
    "        #scheduler.step()\n",
    "\n",
    "        # Print results\n",
    "        losses.append(loss.item() / len(test_loader))\n",
    "        accuracies.append(correct / len(test_dataset))\n",
    "        print(f\"Epoch {e+6}: Accuracy = {accuracies[-1]:.4f}, loss = {losses[-1]:.4f}\")"
   ]
  },
  {
   "cell_type": "code",
   "execution_count": 12,
   "metadata": {},
   "outputs": [
    {
     "data": {
      "image/png": "[encoded data removed]",
      "text/plain": [
       "<Figure size 1440x216 with 1 Axes>"
      ]
     },
     "metadata": {
      "needs_background": "light"
     },
     "output_type": "display_data"
    }
   ],
   "source": [
    "plt.plot(accuracies)\n",
    "plt.show()"
   ]
  },
  {
   "cell_type": "markdown",
   "metadata": {},
   "source": [
    "k/n = 0.5, cbatch_size = 64, num_classes=5  \n",
    "- Epoch 1: Accuracy = 0.5064, loss = 5.0463\n",
    "- Epoch 2: Accuracy = 0.5102, loss = 5.0519\n",
    "- Epoch 3: Accuracy = 0.5100, loss = 5.0688\n",
    "- Epoch 4: Accuracy = 0.5103, loss = 5.1469\n",
    "- Epoch 5: Accuracy = 0.5102, loss = 5.1847\n",
    "- Epoch 6: Accuracy = 0.3469, loss = 5.0968\n",
    "- Epoch 7: Accuracy = 0.2971, loss = 3.9103\n",
    "- Epoch 8: Accuracy = 0.1926, loss = 4.3945\n",
    "- Epoch 9: Accuracy = 0.1632, loss = 3.4623\n",
    "- Epoch 10: Accuracy = 0.2637, loss = 2.6053\n",
    "\n",
    "k/n = 0.1, cbatch_size = 64, num_classes=5\n",
    "- Epoch 1: Accuracy = 0.5082, loss = 4.3091\n",
    "- Epoch 2: Accuracy = 0.5088, loss = 4.4989\n",
    "- Epoch 3: Accuracy = 0.5093, loss = 4.6351\n",
    "- Epoch 4: Accuracy = 0.5090, loss = 4.6894\n",
    "- Epoch 5: Accuracy = 0.5093, loss = 4.7322\n",
    "- Epoch 6: Accuracy = 0.3744, loss = 4.1252\n",
    "- Epoch 7: Accuracy = 0.2844, loss = 4.0484\n",
    "- Epoch 8: Accuracy = 0.1992, loss = 4.5525\n",
    "- Epoch 9: Accuracy = 0.1762, loss = 3.8198\n",
    "- Epoch 10: Accuracy = 0.1911, loss = 3.5139\n",
    "\n",
    "k/n = 0.1, cbatch_size = 1000, num_classes=5\n",
    "- Epoch 1: Accuracy = 0.5099, loss = 4.9009\n",
    "- Epoch 2: Accuracy = 0.5102, loss = 4.9802\n",
    "- Epoch 3: Accuracy = 0.5102, loss = 5.0313\n",
    "- Epoch 4: Accuracy = 0.5104, loss = 5.0584\n",
    "- Epoch 5: Accuracy = 0.5101, loss = 5.0824\n",
    "- Epoch 6: Accuracy = 0.4992, loss = 3.6592\n",
    "- Epoch 7: Accuracy = 0.5080, loss = 2.5587\n",
    "- Epoch 8: Accuracy = 0.5078, loss = 2.1479\n",
    "- Epoch 9: Accuracy = 0.5079, loss = 1.8950\n",
    "- Epoch 10: Accuracy = 0.5062, loss = 1.7333\n",
    "\n",
    "k/n = 0.1, cbatch_size = 2000, num_classes=5\n",
    "- Epoch 1: Accuracy = 0.5082, loss = 4.6018\n",
    "- Epoch 2: Accuracy = 0.5097, loss = 4.7513\n",
    "- Epoch 3: Accuracy = 0.5104, loss = 4.8468\n",
    "- Epoch 4: Accuracy = 0.5101, loss = 4.8978\n",
    "- Epoch 5: Accuracy = 0.5101, loss = 4.9481\n",
    "- Epoch 6: Accuracy = 0.4510, loss = 3.5416\n",
    "- Epoch 7: Accuracy = 0.4117, loss = 3.4274\n",
    "- Epoch 8: Accuracy = 0.2813, loss = 2.4435\n",
    "- Epoch 9: Accuracy = 0.2189, loss = 4.2437\n",
    "- Epoch 10: Accuracy = 0.2096, loss = 2.9414\n",
    "\n",
    "k/n = 0.1, cbatch_size = 1000 (frozen except final layer), num_classes=5\n",
    "- Epoch 1: Accuracy = 0.5085, loss = 4.7954\n",
    "- Epoch 2: Accuracy = 0.5094, loss = 4.7900\n",
    "- Epoch 3: Accuracy = 0.5090, loss = 4.7555\n",
    "- Epoch 4: Accuracy = 0.5090, loss = 4.7553\n",
    "- Epoch 5: Accuracy = 0.5087, loss = 4.8191\n",
    "- Epoch 6: Accuracy = 0.4866, loss = 3.1440\n",
    "- Epoch 7: Accuracy = 0.5011, loss = 2.4275\n",
    "- Epoch 8: Accuracy = 0.4972, loss = 1.9922\n",
    "- Epoch 9: Accuracy = 0.4980, loss = 1.7820\n",
    "- Epoch 10: Accuracy = 0.4951, loss = 1.6539\n",
    "\n",
    "### Takeaways\n",
    "- Reducing k/n alone does not seem to mitigate CF.\n",
    "- Once in the continual learning (CL) regime, the loss and accuracy start dropping together, which is unusual. \n",
    "- By strongly increasing the CL regime batch size (effectively reducing the number of parameter updates), we can bring down the loss significantly more (3.5 to 1.7) and suffer no CF, but the accuracy does not improve either. This benefit seems to be lost if we increase CL regime batch size even further.\n",
    "- Freezing everything except the final hidden layer only helps a little, potentially not at all.\n",
    "- All findings above are based on single executions, better re-run experiments multiple times for certainty.\n",
    "\n",
    "### Next steps\n",
    "- Reduce k/n even further by increasing n a lot, then only freeze the cnn and use large batch size => does not change anything. I realized that this is because the final decision layer is densely updated...\n",
    "- Use contrastive divergence ALSO during i.i.d training.\n",
    "- Use contrastive divergence on dense network, compare results\n",
    "- plot confusion matrix\n",
    "- compute activation overlaps somehow\n",
    "- Set number of continual learning classes to 1\n",
    "\n",
    "k/n = 0.1, cbatch_size = 1000 (frozen cnn + contrastive divergence during CL), num_classes=5\n",
    "- Epoch 1: Accuracy = 0.5093, loss = 4.3138\n",
    "- Epoch 2: Accuracy = 0.5096, loss = 4.5218\n",
    "- Epoch 3: Accuracy = 0.5100, loss = 4.6063\n",
    "- Epoch 4: Accuracy = 0.5101, loss = 4.6912\n",
    "- Epoch 5: Accuracy = 0.5101, loss = 4.7616\n",
    "- Epoch 6: Accuracy = 0.5070, loss = 4.1733\n",
    "- Epoch 7: Accuracy = 0.5109, loss = 3.2822\n",
    "- Epoch 8: Accuracy = 0.5085, loss = 2.4707\n",
    "- Epoch 9: Accuracy = 0.5075, loss = 1.8425\n",
    "- Epoch 10: Accuracy = 0.5175, loss = **1.3504**\n",
    "\n",
    "k/n = 0.1, cbatch_size = 512 (frozen cnn + contrastive divergence during CL), num_classes=5\n",
    "- Epoch 1: Accuracy = 0.5091, loss = 4.1679\n",
    "- Epoch 2: Accuracy = 0.5096, loss = 4.3857\n",
    "- Epoch 3: Accuracy = 0.5098, loss = 4.4505\n",
    "- Epoch 4: Accuracy = 0.5100, loss = 4.5395\n",
    "- Epoch 5: Accuracy = 0.5102, loss = 4.6221\n",
    "- Epoch 6: Accuracy = 0.5095, loss = 4.4327\n",
    "- Epoch 7: Accuracy = 0.5563, loss = 4.0115\n",
    "- Epoch 8: Accuracy = 0.5821, loss = 3.4107\n",
    "- Epoch 9: Accuracy = 0.2740, loss = 4.4475\n",
    "- Epoch 10: Accuracy = 0.1011, loss = 13.0413\n",
    "\n",
    "\n",
    "k/n = 0.1, cbatch_size = 256 (frozen cnn + contrastive divergence during CL), num_classes=5\n",
    "- Epoch 1: Accuracy = 0.5083, loss = 4.5104\n",
    "- Epoch 2: Accuracy = 0.5101, loss = 4.6225\n",
    "- Epoch 3: Accuracy = 0.5104, loss = 4.7108\n",
    "- Epoch 4: Accuracy = 0.5103, loss = 4.7927\n",
    "- Epoch 5: Accuracy = 0.5103, loss = 4.8529\n",
    "- Epoch 6: Accuracy = 0.5122, loss = 4.3171\n",
    "- Epoch 7: Accuracy = 0.5396, loss = 3.3979\n",
    "- Epoch 8: Accuracy = 0.5387, loss = 2.5908\n",
    "- Epoch 9: Accuracy = 0.5651, loss = 1.7700\n",
    "- Epoch 10: Accuracy = 0.5807, loss = 1.3371\n",
    "\n",
    "k/n = 0.1, cbatch_size = 128 (frozen cnn + contrastive divergence during CL), num_classes=5\n",
    "- Epoch 1: Accuracy = 0.5086, loss = 4.0126\n",
    "- Epoch 2: Accuracy = 0.5089, loss = 4.2935\n",
    "- Epoch 6: Accuracy = 0.5077, loss = 4.1278\n",
    "- Epoch 7: Accuracy = 0.5084, loss = 3.4736\n",
    "- Epoch 8: Accuracy = 0.5108, loss = 2.5882\n",
    "- Epoch 9: Accuracy = 0.5568, loss = 1.7713\n",
    "- Epoch 10: Accuracy = 0.6177, loss = 1.1573\n",
    "\n",
    "k/n = 0.1, cbatch_size = 64 (frozen cnn + contrastive divergence during CL), num_classes=5\n",
    "- Epoch 1: Accuracy = 0.5087, loss = 4.3742\n",
    "- Epoch 2: Accuracy = 0.5106, loss = 4.4751\n",
    "- Epoch 3: Accuracy = 0.5099, loss = 4.6011\n",
    "- Epoch 4: Accuracy = 0.5099, loss = 4.6098\n",
    "- Epoch 5: Accuracy = 0.5097, loss = 4.6192\n",
    "- Epoch 6: Accuracy = 0.5080, loss = 4.0452\n",
    "- Epoch 7: Accuracy = 0.5397, loss = 3.3654\n",
    "- Epoch 8: Accuracy = 0.5884, loss = 2.5469\n",
    "- Epoch 9: Accuracy = 0.6041, loss = 1.7788\n",
    "- Epoch 10: Accuracy = 0.5887, loss = 1.2069"
   ]
  },
  {
   "cell_type": "markdown",
   "metadata": {},
   "source": [
    "# Computing hidden layer activations"
   ]
  },
  {
   "cell_type": "code",
   "execution_count": 9,
   "metadata": {},
   "outputs": [
    {
     "name": "stdout",
     "output_type": "stream",
     "text": [
      "Final evaluation. Accuracy = 0.509, loss = 5.095767\n"
     ]
    }
   ],
   "source": [
    "# Code for saving hidden layer activations\n",
    "hidden_activations = {\"cnn\" : [], \"linear\" : []}\n",
    "\n",
    "def get_hidden_activations(name):\n",
    "    def hook(model, input, output):\n",
    "        hidden_activations[name] = output.detach()\n",
    "    return hook\n",
    "\n",
    "model.cnnSdr.register_forward_hook(get_hidden_activations(\"cnn\"))\n",
    "model.linearSdr.register_forward_hook(get_hidden_activations(\"linear\"))\n",
    "\n",
    "# Final evaluation \n",
    "model.eval()\n",
    "loss, correct = 0, 0\n",
    "batch_hidden_activations = []\n",
    "for x, y in test_loader:\n",
    "    x, y = x.to(device), y.to(device)\n",
    "    optimizer.zero_grad()\n",
    "    y_pred = model(x)\n",
    "    loss += criterion(y_pred, y)\n",
    "    pred = y_pred.max(1, keepdim=True)[1]\n",
    "    correct += pred.eq(y.view_as(pred)).sum().item()\n",
    "    batch_hidden_activations.append((hidden_activations.copy(), y))\n",
    "\n",
    "# Print results\n",
    "loss /= len(test_loader)\n",
    "accuracy = correct / len(test_dataset)\n",
    "print(f\"Final evaluation. Accuracy = {accuracy:.3f}, loss = {loss:.6f}\")"
   ]
  },
  {
   "cell_type": "markdown",
   "metadata": {},
   "source": [
    "# Group hidden activations by label"
   ]
  },
  {
   "cell_type": "code",
   "execution_count": 10,
   "metadata": {},
   "outputs": [],
   "source": [
    "all_hidden_activations = functools.reduce(lambda a, b: torch.cat((a, b)), [item[0][\"linear\"] for item in batch_hidden_activations]).cpu().numpy()\n",
    "all_labels = functools.reduce(lambda a, b: torch.cat((a, b)), [item[1] for item in batch_hidden_activations]).cpu().numpy()\n",
    "\n",
    "activations_by_class = {}\n",
    "for i in range(10):\n",
    "    activations_by_class[i] = np.array(all_hidden_activations[np.where(all_labels == i)], dtype=bool)"
   ]
  },
  {
   "cell_type": "markdown",
   "metadata": {},
   "source": [
    "# Visualize mean activation vector for given label"
   ]
  },
  {
   "cell_type": "code",
   "execution_count": 11,
   "metadata": {},
   "outputs": [
    {
     "data": {
      "text/plain": [
       "<BarContainer object of 150 artists>"
      ]
     },
     "execution_count": 11,
     "metadata": {},
     "output_type": "execute_result"
    },
    {
     "data": {
      "image/png": "[encoded data removed]",
      "text/plain": [
       "<Figure size 1440x216 with 1 Axes>"
      ]
     },
     "metadata": {
      "needs_background": "light"
     },
     "output_type": "display_data"
    }
   ],
   "source": [
    "label = 8\n",
    "plt.rcParams[\"figure.figsize\"] = (20,3)\n",
    "plt.bar(range(150), np.mean(activations_by_class[label], axis=0))"
   ]
  },
  {
   "cell_type": "code",
   "execution_count": null,
   "metadata": {},
   "outputs": [],
   "source": []
  }
 ],
 "metadata": {
  "interpreter": {
   "hash": "71a75e0e45db768eaebc31dea91792615aa8f4634f9f6610c511235f2f9d372c"
  },
  "kernelspec": {
   "display_name": "Python 3.9.5 ('base')",
   "language": "python",
   "name": "python3"
  },
  "language_info": {
   "codemirror_mode": {
    "name": "ipython",
    "version": 3
   },
   "file_extension": ".py",
   "mimetype": "text/x-python",
   "name": "python",
   "nbconvert_exporter": "python",
   "pygments_lexer": "ipython3",
   "version": "3.9.5"
  },
  "orig_nbformat": 4
 },
 "nbformat": 4,
 "nbformat_minor": 2
}
