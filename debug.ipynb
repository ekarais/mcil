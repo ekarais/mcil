{
 "cells": [
  {
   "cell_type": "code",
   "execution_count": 1,
   "metadata": {},
   "outputs": [],
   "source": [
    "import torchvision.transforms as transforms\n",
    "from torchvision.datasets import Omniglot\n",
    "from data.wrapper import WrapperDataset"
   ]
  },
  {
   "cell_type": "code",
   "execution_count": 10,
   "metadata": {},
   "outputs": [],
   "source": [
    "transform = transforms.Compose([transforms.ToTensor(), transforms.Resize((28,28))])\n",
    "omniglot = Omniglot(root=\"/home/ekarais/mcil/data/\", transform=transform)\n",
    "train_set = WrapperDataset(omniglot)"
   ]
  },
  {
   "cell_type": "code",
   "execution_count": 11,
   "metadata": {},
   "outputs": [],
   "source": [
    "train_set.compute_support_query_split(2)"
   ]
  },
  {
   "cell_type": "code",
   "execution_count": null,
   "metadata": {},
   "outputs": [],
   "source": [
    "num_epochs = 10\n",
    "support_size = 3\n",
    "for e in range(num_epochs):\n",
    "    train_set.compute_support_query_split(s=support_size)"
   ]
  },
  {
   "cell_type": "code",
   "execution_count": null,
   "metadata": {},
   "outputs": [],
   "source": [
    "at each epoch:\n",
    "    sample large number of classes K\n",
    "    compute support/query split for these classes with small, variable number of support\n",
    "    for each class:\n",
    "        compute mean embedding, froze them\n",
    "    batch training on query classes."
   ]
  }
 ],
 "metadata": {
  "interpreter": {
   "hash": "71a75e0e45db768eaebc31dea91792615aa8f4634f9f6610c511235f2f9d372c"
  },
  "kernelspec": {
   "display_name": "Python 3.9.5 ('base')",
   "language": "python",
   "name": "python3"
  },
  "language_info": {
   "codemirror_mode": {
    "name": "ipython",
    "version": 3
   },
   "file_extension": ".py",
   "mimetype": "text/x-python",
   "name": "python",
   "nbconvert_exporter": "python",
   "pygments_lexer": "ipython3",
   "version": "3.9.5"
  },
  "orig_nbformat": 4
 },
 "nbformat": 4,
 "nbformat_minor": 2
}
